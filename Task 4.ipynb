{
 "cells": [
  {
   "cell_type": "code",
   "execution_count": 1,
   "metadata": {},
   "outputs": [
    {
     "name": "stdout",
     "output_type": "stream",
     "text": [
      "972887\n"
     ]
    }
   ],
   "source": [
    "from Crypto.Util import number\n",
    "\n",
    "n_length = 20\n",
    "\n",
    "primeNum = number.getPrime(n_length)\n",
    "print(primeNum)"
   ]
  },
  {
   "cell_type": "code",
   "execution_count": 2,
   "metadata": {},
   "outputs": [
    {
     "name": "stdout",
     "output_type": "stream",
     "text": [
      "812791853\n"
     ]
    }
   ],
   "source": [
    "n_length10 = 30\n",
    "\n",
    "primeNum10 = number.getPrime(n_length10)\n",
    "print(primeNum10)"
   ]
  },
  {
   "cell_type": "markdown",
   "metadata": {},
   "source": [
    "Q2 : finding primitive root"
   ]
  },
  {
   "cell_type": "code",
   "execution_count": 80,
   "metadata": {},
   "outputs": [
    {
     "name": "stdout",
     "output_type": "stream",
     "text": [
      "Smallest primitive root of 637410703 is 3\n"
     ]
    }
   ],
   "source": [
    "from math import sqrt \n",
    "  \n",
    "# Returns True if n is prime  \n",
    "def isPrime( n):  \n",
    "  \n",
    "    # Corner cases  \n",
    "    if (n <= 1): \n",
    "        return False\n",
    "    if (n <= 3): \n",
    "        return True\n",
    "  \n",
    "    # This is checked so that we can skip  \n",
    "    # middle five numbers in below loop  \n",
    "    if (n % 2 == 0 or n % 3 == 0): \n",
    "        return False\n",
    "    i = 5\n",
    "    while(i * i <= n): \n",
    "        if (n % i == 0 or n % (i + 2) == 0) : \n",
    "            return False\n",
    "        i = i + 6\n",
    "  \n",
    "    return True\n",
    "  \n",
    "\"\"\" Iterative Function to calculate (x^n)%p \n",
    "    in O(logy) */\"\"\"\n",
    "def power( x, y, p):  \n",
    "  \n",
    "    res = 1 # Initialize result  \n",
    "  \n",
    "    x = x % p # Update x if it is more  \n",
    "              # than or equal to p  \n",
    "  \n",
    "    while (y > 0):  \n",
    "  \n",
    "        # If y is odd, multiply x with result  \n",
    "        if (y & 1): \n",
    "            res = (res * x) % p  \n",
    "  \n",
    "        # y must be even now  \n",
    "        y = y >> 1 # y = y/2  \n",
    "        x = (x * x) % p  \n",
    "  \n",
    "    return res  \n",
    "  \n",
    "# Utility function to store prime \n",
    "# factors of a number  \n",
    "def findPrimefactors(s, n) : \n",
    "  \n",
    "    # Print the number of 2s that divide n  \n",
    "    while (n % 2 == 0) : \n",
    "        s.add(2)  \n",
    "        n = n // 2\n",
    "  \n",
    "    # n must be odd at this po. So we can   \n",
    "    # skip one element (Note i = i +2)  \n",
    "    for i in range(3, int(sqrt(n)), 2): \n",
    "          \n",
    "        # While i divides n, print i and divide n  \n",
    "        while (n % i == 0) : \n",
    "  \n",
    "            s.add(i)  \n",
    "            n = n // i  \n",
    "          \n",
    "    # This condition is to handle the case  \n",
    "    # when n is a prime number greater than 2  \n",
    "    if (n > 2) : \n",
    "        s.add(n)  \n",
    "  \n",
    "# Function to find smallest primitive  \n",
    "# root of n  \n",
    "def findPrimitive( n) : \n",
    "    s = set()  \n",
    "  \n",
    "    # Check if n is prime or not  \n",
    "    if (isPrime(n) == False):  \n",
    "        return -1\n",
    "  \n",
    "    # Find value of Euler Totient function  \n",
    "    # of n. Since n is a prime number, the  \n",
    "    # value of Euler Totient function is n-1  \n",
    "    # as there are n-1 relatively prime numbers. \n",
    "    phi = n - 1\n",
    "  \n",
    "    # Find prime factors of phi and store in a set  \n",
    "    findPrimefactors(s, phi)  \n",
    "  \n",
    "    # Check for every number from 2 to phi  \n",
    "    for r in range(2, phi + 1):  \n",
    "  \n",
    "        # Iterate through all prime factors of phi.  \n",
    "        # and check if we found a power with value 1  \n",
    "        flag = False\n",
    "        for it in s:  \n",
    "  \n",
    "            # Check if r^((phi)/primefactors) \n",
    "            # mod n is 1 or not  \n",
    "            if (power(r, phi // it, n) == 1):  \n",
    "  \n",
    "                flag = True\n",
    "                break\n",
    "              \n",
    "        # If there was no power with value 1.  \n",
    "        if (flag == False): \n",
    "            return r  \n",
    "  \n",
    "    # If no primitive root found  \n",
    "    return -1\n",
    "  \n",
    "# Driver Code  \n",
    "n = primeNum10\n",
    "print(\"Smallest primitive root of\",  \n",
    "         n, \"is\", findPrimitive(n)) "
   ]
  },
  {
   "cell_type": "markdown",
   "metadata": {},
   "source": [
    "Q3 : DH key exchange"
   ]
  },
  {
   "cell_type": "code",
   "execution_count": 81,
   "metadata": {},
   "outputs": [
    {
     "name": "stdout",
     "output_type": "stream",
     "text": [
      "68685340\n"
     ]
    }
   ],
   "source": [
    "import random\n",
    "n=random.randint(9999999,100000000)\n",
    "print(n)"
   ]
  },
  {
   "cell_type": "code",
   "execution_count": 82,
   "metadata": {},
   "outputs": [],
   "source": [
    "message=\"This is a very secret message!!!\"\n",
    "p=primeNum10\n",
    "a=random.randint(999999,10000000)\n",
    "g=findPrimitive(n)\n",
    "b=random.randint(999999,10000000)\n",
    "x = (g**a)%p\n",
    "y = (g**b)%p"
   ]
  },
  {
   "cell_type": "code",
   "execution_count": 83,
   "metadata": {},
   "outputs": [
    {
     "data": {
      "text/plain": [
       "637410702"
      ]
     },
     "execution_count": 83,
     "metadata": {},
     "output_type": "execute_result"
    }
   ],
   "source": [
    "x"
   ]
  },
  {
   "cell_type": "code",
   "execution_count": 84,
   "metadata": {},
   "outputs": [
    {
     "data": {
      "text/plain": [
       "637410702"
      ]
     },
     "execution_count": 84,
     "metadata": {},
     "output_type": "execute_result"
    }
   ],
   "source": [
    "y"
   ]
  },
  {
   "cell_type": "code",
   "execution_count": 88,
   "metadata": {},
   "outputs": [],
   "source": [
    "import time"
   ]
  },
  {
   "cell_type": "code",
   "execution_count": 89,
   "metadata": {},
   "outputs": [
    {
     "name": "stdout",
     "output_type": "stream",
     "text": [
      "-----------------------------------\n",
      "Time elapsed:  157.1875\n"
     ]
    }
   ],
   "source": [
    "t0= time.process_time()\n",
    "ka=(y**a)%p\n",
    "ka\n",
    "t1 = time.process_time() - t0\n",
    "print (\"-----------------------------------\")\n",
    "print(\"Time elapsed: \", t1)"
   ]
  },
  {
   "cell_type": "code",
   "execution_count": 90,
   "metadata": {},
   "outputs": [
    {
     "name": "stdout",
     "output_type": "stream",
     "text": [
      "-----------------------------------\n",
      "Time elapsed:  242.953125\n"
     ]
    }
   ],
   "source": [
    "t0= time.process_time()\n",
    "kb=(x**b)%p\n",
    "kb\n",
    "t1 = time.process_time() - t0\n",
    "print (\"-----------------------------------\")\n",
    "print(\"Time elapsed: \", t1)"
   ]
  },
  {
   "cell_type": "markdown",
   "metadata": {},
   "source": [
    "Q4 : Find an integer k such that a^k is congruent modulo b"
   ]
  },
  {
   "cell_type": "code",
   "execution_count": 91,
   "metadata": {},
   "outputs": [
    {
     "name": "stdout",
     "output_type": "stream",
     "text": [
      "3\n",
      "-1\n"
     ]
    }
   ],
   "source": [
    "import math; \n",
    "  \n",
    "# Iterative Function to calculate  \n",
    "# (x ^ y)%p in O(log y)  \n",
    "def powmod(x, y, p):  \n",
    "  \n",
    "    res = 1; # Initialize result  \n",
    "  \n",
    "    x = x % p; # Update x if it is more  \n",
    "               # than or equal to p  \n",
    "  \n",
    "    while (y > 0):  \n",
    "          \n",
    "        # If y is odd, multiply x with result  \n",
    "        if (y & 1):  \n",
    "            res = (res * x) % p;  \n",
    "  \n",
    "        # y must be even now  \n",
    "        y = y >> 1; # y = y/2  \n",
    "        x = (x * x) % p;  \n",
    "    return res;  \n",
    "  \n",
    "# Function to calculate k for given a, b, m  \n",
    "def discreteLogarithm(a, b, m):  \n",
    "    n = int(math.sqrt(m) + 1);  \n",
    "  \n",
    "    value = [0] * m;  \n",
    "  \n",
    "    # Store all values of a^(n*i) of LHS  \n",
    "    for i in range(n, 0, -1):  \n",
    "        value[ powmod (a, i * n, m) ] = i;  \n",
    "  \n",
    "    for j in range(n):  \n",
    "          \n",
    "        # Calculate (a ^ j) * b and check  \n",
    "        # for collision  \n",
    "        cur = (powmod (a, j, m) * b) % m;  \n",
    "  \n",
    "        # If collision occurs i.e., LHS = RHS  \n",
    "        if (value[cur]):  \n",
    "            ans = value[cur] * n - j;  \n",
    "              \n",
    "            # Check whether ans lies below m or not  \n",
    "            if (ans < m):  \n",
    "                return ans;  \n",
    "      \n",
    "    return -1;  \n",
    "  \n",
    "# Driver code  \n",
    "a = 2;  \n",
    "b = 3;  \n",
    "m = 5;  \n",
    "print(discreteLogarithm(a, b, m));  \n",
    "  \n",
    "a = 3;  \n",
    "b = 7;  \n",
    "m = 11;  \n",
    "print(discreteLogarithm(a, b, m));"
   ]
  },
  {
   "cell_type": "code",
   "execution_count": 92,
   "metadata": {},
   "outputs": [
    {
     "name": "stdout",
     "output_type": "stream",
     "text": [
      "Enter the value of p = 907\n",
      "Enter the value of q = 900\n",
      "Enter the value of text = 200\n",
      "n = 816300 e = 5 t = 814494 d = 162899 cipher text = 604400 decrypted text = 200\n",
      "Program Executed in 0.27196770000045944\n"
     ]
    }
   ],
   "source": [
    "#Q5\n",
    "import timeit\n",
    "from decimal import Decimal \n",
    "  \n",
    "def gcd(a,b): \n",
    "    if b==0: \n",
    "        return a \n",
    "    else: \n",
    "        return gcd(b,a%b) \n",
    "p = int(input('Enter the value of p = ')) \n",
    "q = int(input('Enter the value of q = ')) \n",
    "no = int(input('Enter the value of text = ')) \n",
    "n = p*q \n",
    "t = (p-1)*(q-1) \n",
    "\n",
    "#intializing start time after all user inputs are taken\n",
    "start = timeit.default_timer()\n",
    "  \n",
    "for e in range(2,t): \n",
    "    if gcd(e,t)== 1: \n",
    "        break\n",
    "  \n",
    "  \n",
    "for i in range(1,10): \n",
    "    x = 1 + i*t \n",
    "    if x % e == 0: \n",
    "        d = int(x/e) \n",
    "        break\n",
    "ctt = Decimal(0) \n",
    "ctt =pow(no,e) \n",
    "ct = ctt % n \n",
    "  \n",
    "dtt = Decimal(0) \n",
    "dtt = pow(ct,d) \n",
    "dt = dtt % n \n",
    "print('n = '+str(n)+' e = '+str(e)+' t = '+str(t)+' d = '+str(d)+' cipher text = '+str(ct)+' decrypted text = '+str(dt)) \n",
    "stop = timeit.default_timer()\n",
    "execution_time = stop - start\n",
    "\n",
    "print(\"Program Executed in \"+str(execution_time))"
   ]
  },
  {
   "cell_type": "code",
   "execution_count": null,
   "metadata": {},
   "outputs": [],
   "source": []
  }
 ],
 "metadata": {
  "kernelspec": {
   "display_name": "Python 3",
   "language": "python",
   "name": "python3"
  },
  "language_info": {
   "codemirror_mode": {
    "name": "ipython",
    "version": 3
   },
   "file_extension": ".py",
   "mimetype": "text/x-python",
   "name": "python",
   "nbconvert_exporter": "python",
   "pygments_lexer": "ipython3",
   "version": "3.7.3"
  }
 },
 "nbformat": 4,
 "nbformat_minor": 2
}
